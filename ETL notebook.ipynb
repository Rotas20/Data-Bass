{
 "cells": [
  {
   "cell_type": "markdown",
   "metadata": {},
   "source": [
    "# __ETL Project__\n",
    "____________________\n",
    "______________________"
   ]
  },
  {
   "cell_type": "markdown",
   "metadata": {},
   "source": [
    "#### __Summary__\n",
    "__________________\n",
    "__A database collection of NBA players' statistics, NBA players' salaries, and NBA players of the week__"
   ]
  },
  {
   "cell_type": "markdown",
   "metadata": {},
   "source": [
    "#### __Sources:__\n",
    "______________________\n",
    "Datasource: https://www.kaggle.com/justinas/nba-players-data\n",
    "<ul><li>File: \"all_seasons.csv\"</li></ul>\n",
    "\n",
    "Datasource: https://www.kaggle.com/jacobbaruch/nba-player-of-the-week\n",
    "<ul> <li>File: \"NBA_player_of_the_week.csv\" </li></ul>\n",
    "\n",
    "Datasource: https://data.world/datadavis/nba-salaries\n",
    " <ul> \n",
    "    <li>File (1): \"salaries_1985to2018.csv\"</li>\n",
    "    <li>File (2): \"players.csv\"</li>\n",
    "</ul>\n"
   ]
  },
  {
   "cell_type": "markdown",
   "metadata": {},
   "source": [
    "#### __Google Cloud Platform:__\n",
    "______________________"
   ]
  },
  {
   "cell_type": "markdown",
   "metadata": {},
   "source": [
    "Extraction\n",
    "   1. Located datasets on Kaggle.com and Data.world\n",
    "   2. Downloaded files as .csv to Local Drive\n",
    "   \n",
    "   3. In Google Cloud (GC), new project created \"all-about-that-database'\n"
   ]
  },
  {
   "cell_type": "code",
   "execution_count": null,
   "metadata": {},
   "outputs": [],
   "source": []
  },
  {
   "cell_type": "markdown",
   "metadata": {},
   "source": [
    "plan and document: \n",
    "*the sources of the data to extract from\n",
    "*the type of transformation needed cleaning, joining, filtering, aggregating, etc\n",
    "The type of final production database to load the data into (relational or non-relational).\n",
    "The final tables or collections that will be used in the production database."
   ]
  },
  {
   "cell_type": "markdown",
   "metadata": {},
   "source": [
    "## Extract, Transform, Load\n",
    "   Steps:\n",
    "   1. Retrieved the data from each source found on Kaggle.com and Data.world\n",
    "   2. Downloaded files as .csv to Local Drive\n",
    "   3. In Google Cloud (GC), new project created \"all-about-that-database'\n",
    "   --estanblish connection\n",
    "   --create dataset\n",
    "   --Dataset ID\n",
    "   \n",
    "   4. (GC) Created new storage bucket 'nba' and folder 'resources'\n",
    "   5. (GC) Uploaded .csv files to resources folder\n",
    "   ** locally?\n",
    "   \n",
    "   6. (GC) In project, we created a new dataset \"nba\"\n",
    "   - imported 4 csv files from locat drive (import from local drive, rename tables, use auto schema, skip header row)\n",
    "   7. (GC) New tables created \"INSERT NAMES HERE\"\n",
    "   8. (GC) New _view_ created by _joining_ \"TABLE NAME\" and \"TABLE NAME\" on \"INSERT FIELD NAME' -\n",
    "   #####note: This is for the salary information\n",
    "       Reasoning:\n",
    "   9. (GC) From \"INSERT TABLE NAME\" field names \"INSERT FIELD NAMES\" selected\n",
    "   10. (GC) Final view created by joining \"TABLE NAME\" and \"TABLE NAME\" on \"INSERT FIELD NAME\"\n",
    "       Reasoning:\n",
    "   11. Exported \"TABLE NAME\" as .csv to Local Drive to push onto GitHub\n",
    "\n"
   ]
  },
  {
   "cell_type": "markdown",
   "metadata": {},
   "source": [
    "## Transform"
   ]
  },
  {
   "cell_type": "markdown",
   "metadata": {},
   "source": [
    "## Load"
   ]
  },
  {
   "cell_type": "markdown",
   "metadata": {},
   "source": [
    "## __Project Report__"
   ]
  },
  {
   "cell_type": "code",
   "execution_count": null,
   "metadata": {},
   "outputs": [],
   "source": []
  }
 ],
 "metadata": {
  "kernelspec": {
   "display_name": "Python 3",
   "language": "python",
   "name": "python3"
  },
  "language_info": {
   "codemirror_mode": {
    "name": "ipython",
    "version": 3
   },
   "file_extension": ".py",
   "mimetype": "text/x-python",
   "name": "python",
   "nbconvert_exporter": "python",
   "pygments_lexer": "ipython3",
   "version": "3.7.4"
  }
 },
 "nbformat": 4,
 "nbformat_minor": 2
}
